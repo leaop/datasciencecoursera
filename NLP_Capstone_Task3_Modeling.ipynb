{
 "cells": [
  {
   "cell_type": "markdown",
   "id": "495b2ed6",
   "metadata": {},
   "source": [
    "# NLP Capstone - Task 3: N-Gram Modeling\n",
    "Este notebook constrói um modelo preditivo simples baseado em n-gramas (Markov model) para prever a próxima palavra, com técnicas de smoothing e backoff para lidar com n-gramas não vistos no corpus."
   ]
  },
  {
   "cell_type": "code",
   "execution_count": 1,
   "id": "1a7e1215",
   "metadata": {},
   "outputs": [],
   "source": [
    "import re\n",
    "import random\n",
    "from collections import defaultdict, Counter\n",
    "from nltk.util import ngrams\n",
    "\n",
    "# Tokenização simples\n",
    "def tokenize(text):\n",
    "    return re.findall(r'\\b\\w+\\b', text.lower())"
   ]
  },
  {
   "cell_type": "code",
   "execution_count": 2,
   "id": "cbb71d7d",
   "metadata": {},
   "outputs": [],
   "source": [
    "# Leitura de amostra de texto\n",
    "def sample_lines(file_path, sample_size=10000, prob=0.03):\n",
    "    sampled = []\n",
    "    with open(file_path, 'r', encoding='utf-8', errors='ignore') as f:\n",
    "        for line in f:\n",
    "            if len(sampled) >= sample_size:\n",
    "                break\n",
    "            if random.random() < prob:\n",
    "                sampled.append(line.strip())\n",
    "    return sampled\n",
    "\n",
    "file_path = \"/Users/lpn/Downloads/final/en_US/en_US.twitter.txt\"\n",
    "lines = sample_lines(file_path)\n",
    "tokens = []\n",
    "for line in lines:\n",
    "    tokens.extend(tokenize(line))"
   ]
  },
  {
   "cell_type": "code",
   "execution_count": 3,
   "id": "4a5ebfb4",
   "metadata": {},
   "outputs": [],
   "source": [
    "# Construção de modelos de 1, 2 e 3-gramas\n",
    "unigram_model = Counter(tokens)\n",
    "bigram_model = Counter(ngrams(tokens, 2))\n",
    "trigram_model = Counter(ngrams(tokens, 3))"
   ]
  },
  {
   "cell_type": "code",
   "execution_count": 4,
   "id": "a145fc93",
   "metadata": {},
   "outputs": [],
   "source": [
    "def predict_next_word(input_text, n=3):\n",
    "    input_tokens = tokenize(input_text)\n",
    "    if len(input_tokens) < 1:\n",
    "        return unigram_model.most_common(1)[0][0]\n",
    "\n",
    "    if n >= 3 and len(input_tokens) >= 2:\n",
    "        trigram_context = tuple(input_tokens[-2:])\n",
    "        candidates = {k[2]: v for k, v in trigram_model.items() if k[:2] == trigram_context}\n",
    "        if candidates:\n",
    "            return max(candidates, key=candidates.get)\n",
    "\n",
    "    if n >= 2 and len(input_tokens) >= 1:\n",
    "        bigram_context = tuple(input_tokens[-1:])\n",
    "        candidates = {k[1]: v for k, v in bigram_model.items() if k[:1] == bigram_context}\n",
    "        if candidates:\n",
    "            return max(candidates, key=candidates.get)\n",
    "\n",
    "    return unigram_model.most_common(1)[0][0]"
   ]
  },
  {
   "cell_type": "code",
   "execution_count": 5,
   "id": "6470ed83",
   "metadata": {},
   "outputs": [
    {
     "name": "stdout",
     "output_type": "stream",
     "text": [
      "Input: i love\n",
      "Next word prediction: you\n",
      "Input: thanks for\n",
      "Next word prediction: the\n"
     ]
    }
   ],
   "source": [
    "print(\"Input: i love\")\n",
    "print(\"Next word prediction:\", predict_next_word(\"i love\"))\n",
    "\n",
    "print(\"Input: thanks for\")\n",
    "print(\"Next word prediction:\", predict_next_word(\"thanks for\"))"
   ]
  },
  {
   "cell_type": "markdown",
   "id": "6ac4fa84",
   "metadata": {},
   "source": [
    "### Discussões:\n",
    "- **Backoff**: o modelo tenta trigramas, depois bigramas, e por fim unigramas.\n",
    "- **Smoothing** implícito: toda predição retorna uma palavra, mesmo que não haja contexto prévio.\n",
    "- **Melhorias possíveis**:\n",
    "  - Add-1 smoothing (Laplace)\n",
    "  - Modelo interpolado com pesos\n",
    "  - Compressão por frequência (remover n-gramas raros)\n",
    "- **Avaliação**: medir acurácia top-k usando conjuntos de teste e perplexidade"
   ]
  }
 ],
 "metadata": {
  "kernelspec": {
   "display_name": "Python 3",
   "language": "python",
   "name": "python3"
  },
  "language_info": {
   "codemirror_mode": {
    "name": "ipython",
    "version": 3
   },
   "file_extension": ".py",
   "mimetype": "text/x-python",
   "name": "python",
   "nbconvert_exporter": "python",
   "pygments_lexer": "ipython3",
   "version": "3.13.3"
  }
 },
 "nbformat": 4,
 "nbformat_minor": 5
}
