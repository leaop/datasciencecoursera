{
 "cells": [
  {
   "cell_type": "markdown",
   "id": "495b2ed6",
   "metadata": {},
   "source": [
    "# NLP Capstone - Task 3: N-Gram Modeling\n",
    "Este notebook constrói um modelo preditivo simples baseado em n-gramas (Markov model) para prever a próxima palavra, com técnicas de smoothing e backoff para lidar com n-gramas não vistos no corpus."
   ]
  },
  {
   "cell_type": "code",
   "execution_count": 1,
   "id": "1a7e1215",
   "metadata": {},
   "outputs": [
    {
     "ename": "ModuleNotFoundError",
     "evalue": "No module named 'nltk'",
     "output_type": "error",
     "traceback": [
      "\u001b[31m---------------------------------------------------------------------------\u001b[39m",
      "\u001b[31mModuleNotFoundError\u001b[39m                       Traceback (most recent call last)",
      "\u001b[36mCell\u001b[39m\u001b[36m \u001b[39m\u001b[32mIn[1]\u001b[39m\u001b[32m, line 4\u001b[39m\n\u001b[32m      2\u001b[39m \u001b[38;5;28;01mimport\u001b[39;00m\u001b[38;5;250m \u001b[39m\u001b[34;01mrandom\u001b[39;00m\n\u001b[32m      3\u001b[39m \u001b[38;5;28;01mfrom\u001b[39;00m\u001b[38;5;250m \u001b[39m\u001b[34;01mcollections\u001b[39;00m\u001b[38;5;250m \u001b[39m\u001b[38;5;28;01mimport\u001b[39;00m defaultdict, Counter\n\u001b[32m----> \u001b[39m\u001b[32m4\u001b[39m \u001b[38;5;28;01mfrom\u001b[39;00m\u001b[38;5;250m \u001b[39m\u001b[34;01mnltk\u001b[39;00m\u001b[34;01m.\u001b[39;00m\u001b[34;01mutil\u001b[39;00m\u001b[38;5;250m \u001b[39m\u001b[38;5;28;01mimport\u001b[39;00m ngrams\n\u001b[32m      6\u001b[39m \u001b[38;5;66;03m# Tokenização simples\u001b[39;00m\n\u001b[32m      7\u001b[39m \u001b[38;5;28;01mdef\u001b[39;00m\u001b[38;5;250m \u001b[39m\u001b[34mtokenize\u001b[39m(text):\n",
      "\u001b[31mModuleNotFoundError\u001b[39m: No module named 'nltk'"
     ]
    }
   ],
   "source": [
    "import re\n",
    "import random\n",
    "from collections import defaultdict, Counter\n",
    "from nltk.util import ngrams\n",
    "\n",
    "# Tokenização simples\n",
    "def tokenize(text):\n",
    "    return re.findall(r'\\b\\w+\\b', text.lower())"
   ]
  },
  {
   "cell_type": "code",
   "execution_count": null,
   "id": "cbb71d7d",
   "metadata": {},
   "outputs": [],
   "source": [
    "# Leitura de amostra de texto\n",
    "def sample_lines(file_path, sample_size=10000, prob=0.03):\n",
    "    sampled = []\n",
    "    with open(file_path, 'r', encoding='utf-8', errors='ignore') as f:\n",
    "        for line in f:\n",
    "            if len(sampled) >= sample_size:\n",
    "                break\n",
    "            if random.random() < prob:\n",
    "                sampled.append(line.strip())\n",
    "    return sampled\n",
    "\n",
    "file_path = \"/Users/lpn/Downloads/final/en_US/en_US.twitter.txt\"\n",
    "lines = sample_lines(file_path)\n",
    "tokens = []\n",
    "for line in lines:\n",
    "    tokens.extend(tokenize(line))"
   ]
  },
  {
   "cell_type": "code",
   "execution_count": null,
   "id": "4a5ebfb4",
   "metadata": {},
   "outputs": [],
   "source": [
    "# Construção de modelos de 1, 2 e 3-gramas\n",
    "unigram_model = Counter(tokens)\n",
    "bigram_model = Counter(ngrams(tokens, 2))\n",
    "trigram_model = Counter(ngrams(tokens, 3))"
   ]
  },
  {
   "cell_type": "code",
   "execution_count": null,
   "id": "a145fc93",
   "metadata": {},
   "outputs": [],
   "source": [
    "def predict_next_word(input_text, n=3):\n",
    "    input_tokens = tokenize(input_text)\n",
    "    if len(input_tokens) < 1:\n",
    "        return unigram_model.most_common(1)[0][0]\n",
    "\n",
    "    if n >= 3 and len(input_tokens) >= 2:\n",
    "        trigram_context = tuple(input_tokens[-2:])\n",
    "        candidates = {k[2]: v for k, v in trigram_model.items() if k[:2] == trigram_context}\n",
    "        if candidates:\n",
    "            return max(candidates, key=candidates.get)\n",
    "\n",
    "    if n >= 2 and len(input_tokens) >= 1:\n",
    "        bigram_context = tuple(input_tokens[-1:])\n",
    "        candidates = {k[1]: v for k, v in bigram_model.items() if k[:1] == bigram_context}\n",
    "        if candidates:\n",
    "            return max(candidates, key=candidates.get)\n",
    "\n",
    "    return unigram_model.most_common(1)[0][0]"
   ]
  },
  {
   "cell_type": "code",
   "execution_count": null,
   "id": "6470ed83",
   "metadata": {},
   "outputs": [],
   "source": [
    "print(\"Input: i love\")\n",
    "print(\"Next word prediction:\", predict_next_word(\"i love\"))\n",
    "\n",
    "print(\"Input: thanks for\")\n",
    "print(\"Next word prediction:\", predict_next_word(\"thanks for\"))"
   ]
  },
  {
   "cell_type": "markdown",
   "id": "6ac4fa84",
   "metadata": {},
   "source": [
    "### Discussões:\n",
    "- **Backoff**: o modelo tenta trigramas, depois bigramas, e por fim unigramas.\n",
    "- **Smoothing** implícito: toda predição retorna uma palavra, mesmo que não haja contexto prévio.\n",
    "- **Melhorias possíveis**:\n",
    "  - Add-1 smoothing (Laplace)\n",
    "  - Modelo interpolado com pesos\n",
    "  - Compressão por frequência (remover n-gramas raros)\n",
    "- **Avaliação**: medir acurácia top-k usando conjuntos de teste e perplexidade"
   ]
  }
 ],
 "metadata": {
  "kernelspec": {
   "display_name": "Python 3",
   "language": "python",
   "name": "python3"
  },
  "language_info": {
   "codemirror_mode": {
    "name": "ipython",
    "version": 3
   },
   "file_extension": ".py",
   "mimetype": "text/x-python",
   "name": "python",
   "nbconvert_exporter": "python",
   "pygments_lexer": "ipython3",
   "version": "3.13.2"
  }
 },
 "nbformat": 4,
 "nbformat_minor": 5
}
