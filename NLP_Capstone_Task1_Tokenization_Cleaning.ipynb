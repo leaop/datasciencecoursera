{
 "cells": [
  {
   "cell_type": "markdown",
   "id": "fdf6a79a",
   "metadata": {},
   "source": [
    "# NLP Capstone - Task 1: Tokenização e Filtro de Profanidade\n",
    "Este notebook realiza a leitura, amostragem, tokenização e limpeza de texto com remoção de palavras ofensivas a partir do dataset *en_US.twitter.txt* do projeto Capstone."
   ]
  },
  {
   "cell_type": "code",
   "execution_count": null,
   "id": "63bb7162",
   "metadata": {},
   "outputs": [],
   "source": [
    "import random\n",
    "import re\n",
    "\n",
    "# Caminho do arquivo (ajuste conforme necessário)\n",
    "file_path = \"final/en_US/en_US.twitter.txt\"\n",
    "\n",
    "# Lista de palavras ofensivas (você pode estender ou carregar de um arquivo externo)\n",
    "profanity_list = [\"damn\", \"hell\", \"shit\", \"fuck\", \"bitch\"]"
   ]
  },
  {
   "cell_type": "code",
   "execution_count": null,
   "id": "fc0b385b",
   "metadata": {},
   "outputs": [],
   "source": [
    "def sample_lines(file_path, sample_size=10000, prob=0.05):\n",
    "    sampled = []\n",
    "    with open(file_path, 'r', encoding='utf-8', errors='ignore') as file:\n",
    "        for line in file:\n",
    "            if len(sampled) >= sample_size:\n",
    "                break\n",
    "            if random.random() < prob:\n",
    "                sampled.append(line.strip())\n",
    "    return sampled"
   ]
  },
  {
   "cell_type": "code",
   "execution_count": null,
   "id": "d0295888",
   "metadata": {},
   "outputs": [],
   "source": [
    "def tokenize(text):\n",
    "    tokens = re.findall(r'\\b\\w+\\b', text.lower())\n",
    "    return tokens"
   ]
  },
  {
   "cell_type": "code",
   "execution_count": null,
   "id": "f047d1d9",
   "metadata": {},
   "outputs": [],
   "source": [
    "def remove_profanity(tokens, profanity_list):\n",
    "    clean_tokens = [word for word in tokens if word not in profanity_list]\n",
    "    return clean_tokens"
   ]
  },
  {
   "cell_type": "code",
   "execution_count": null,
   "id": "e7cf337b",
   "metadata": {},
   "outputs": [],
   "source": [
    "def process_text(lines, profanity_list):\n",
    "    all_tokens = []\n",
    "    for line in lines:\n",
    "        tokens = tokenize(line)\n",
    "        clean_tokens = remove_profanity(tokens, profanity_list)\n",
    "        all_tokens.extend(clean_tokens)\n",
    "    return all_tokens"
   ]
  },
  {
   "cell_type": "code",
   "execution_count": null,
   "id": "f2f71724",
   "metadata": {},
   "outputs": [],
   "source": [
    "# Amostragem das linhas\n",
    "sampled_lines = sample_lines(file_path, sample_size=10000, prob=0.03)\n",
    "\n",
    "# Processamento\n",
    "cleaned_tokens = process_text(sampled_lines, profanity_list)\n",
    "\n",
    "print(\"Exemplo de tokens limpos:\", cleaned_tokens[:30])\n",
    "print(f\"Total de palavras após limpeza: {len(cleaned_tokens)}\")"
   ]
  },
  {
   "cell_type": "code",
   "execution_count": null,
   "id": "69ce88ec",
   "metadata": {},
   "outputs": [],
   "source": [
    "# Salvando tokens limpos em arquivo\n",
    "output_path = \"cleaned_tokens.txt\"\n",
    "with open(output_path, \"w\", encoding=\"utf-8\") as f:\n",
    "    f.write(\" \".join(cleaned_tokens))\n",
    "\n",
    "print(f\"Tokens limpos salvos em: {output_path}\")"
   ]
  }
 ],
 "metadata": {},
 "nbformat": 4,
 "nbformat_minor": 5
}
