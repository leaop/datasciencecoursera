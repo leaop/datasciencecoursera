{
 "cells": [
  {
   "cell_type": "markdown",
   "id": "04c5684a",
   "metadata": {},
   "source": [
    "# NLP Capstone - Task 2: Exploratory Data Analysis (EDA)\n",
    "Este notebook executa uma análise exploratória sobre um corpus textual amostrado, identificando a frequência de palavras, 2-grams e 3-grams. Também examina a cobertura de vocabulário e discute estratégias para compressão semântica e ampliação de cobertura."
   ]
  },
  {
   "cell_type": "code",
   "execution_count": 3,
   "id": "54142b48",
   "metadata": {},
   "outputs": [
    {
     "ename": "ModuleNotFoundError",
     "evalue": "No module named 'nltk'",
     "output_type": "error",
     "traceback": [
      "\u001b[31m---------------------------------------------------------------------------\u001b[39m",
      "\u001b[31mModuleNotFoundError\u001b[39m                       Traceback (most recent call last)",
      "\u001b[36mCell\u001b[39m\u001b[36m \u001b[39m\u001b[32mIn[3]\u001b[39m\u001b[32m, line 7\u001b[39m\n\u001b[32m      5\u001b[39m \u001b[38;5;28;01mimport\u001b[39;00m\u001b[38;5;250m \u001b[39m\u001b[34;01mseaborn\u001b[39;00m\u001b[38;5;250m \u001b[39m\u001b[38;5;28;01mas\u001b[39;00m\u001b[38;5;250m \u001b[39m\u001b[34;01msns\u001b[39;00m\n\u001b[32m      6\u001b[39m \u001b[38;5;28;01mimport\u001b[39;00m\u001b[38;5;250m \u001b[39m\u001b[34;01mpandas\u001b[39;00m\u001b[38;5;250m \u001b[39m\u001b[38;5;28;01mas\u001b[39;00m\u001b[38;5;250m \u001b[39m\u001b[34;01mpd\u001b[39;00m\n\u001b[32m----> \u001b[39m\u001b[32m7\u001b[39m \u001b[38;5;28;01mfrom\u001b[39;00m\u001b[38;5;250m \u001b[39m\u001b[34;01mnltk\u001b[39;00m\u001b[38;5;250m \u001b[39m\u001b[38;5;28;01mimport\u001b[39;00m ngrams\n\u001b[32m      9\u001b[39m \u001b[38;5;66;03m# Caminho do arquivo\u001b[39;00m\n\u001b[32m     10\u001b[39m file_path = \u001b[33m\"\u001b[39m\u001b[33m/Users/lpn/Downloads/final/en_US/en_US.twitter.txt\u001b[39m\u001b[33m\"\u001b[39m\n",
      "\u001b[31mModuleNotFoundError\u001b[39m: No module named 'nltk'"
     ]
    }
   ],
   "source": [
    "import re\n",
    "import random\n",
    "from collections import Counter\n",
    "import matplotlib.pyplot as plt\n",
    "import seaborn as sns\n",
    "import pandas as pd\n",
    "from nltk import ngrams\n",
    "\n",
    "# Caminho do arquivo\n",
    "file_path = \"/Users/lpn/Downloads/final/en_US/en_US.twitter.txt\"\n",
    "\n",
    "# Carregamento amostrado\n",
    "def sample_lines(file_path, sample_size=10000, prob=0.03):\n",
    "    sampled = []\n",
    "    with open(file_path, 'r', encoding='utf-8', errors='ignore') as f:\n",
    "        for line in f:\n",
    "            if len(sampled) >= sample_size:\n",
    "                break\n",
    "            if random.random() < prob:\n",
    "                sampled.append(line.strip())\n",
    "    return sampled\n",
    "\n",
    "# Tokenização simples\n",
    "def tokenize(text):\n",
    "    return re.findall(r'\\b\\w+\\b', text.lower())"
   ]
  },
  {
   "cell_type": "code",
   "execution_count": null,
   "id": "51f1390b",
   "metadata": {},
   "outputs": [],
   "source": [
    "# Amostragem\n",
    "lines = sample_lines(file_path)\n",
    "\n",
    "# Tokenização\n",
    "tokens = []\n",
    "for line in lines:\n",
    "    tokens.extend(tokenize(line))\n",
    "\n",
    "print(f\"Total de palavras: {len(tokens)}\")"
   ]
  },
  {
   "cell_type": "code",
   "execution_count": null,
   "id": "d4f3da7b",
   "metadata": {},
   "outputs": [],
   "source": [
    "# Frequência de palavras\n",
    "word_freq = Counter(tokens)\n",
    "common_words = word_freq.most_common(20)\n",
    "df_words = pd.DataFrame(common_words, columns=['word', 'freq'])\n",
    "\n",
    "plt.figure(figsize=(10,5))\n",
    "sns.barplot(x='freq', y='word', data=df_words)\n",
    "plt.title('Top 20 palavras mais frequentes')\n",
    "plt.show()"
   ]
  },
  {
   "cell_type": "code",
   "execution_count": null,
   "id": "89e62683",
   "metadata": {},
   "outputs": [],
   "source": [
    "# Geração de n-grams\n",
    "bigrams = list(ngrams(tokens, 2))\n",
    "trigrams = list(ngrams(tokens, 3))\n",
    "\n",
    "# Frequência\n",
    "bigram_freq = Counter(bigrams).most_common(10)\n",
    "trigram_freq = Counter(trigrams).most_common(10)\n",
    "\n",
    "print(\"Top 10 bigrams:\")\n",
    "for bg in bigram_freq: print(' '.join(bg[0]), \"-\", bg[1])\n",
    "\n",
    "print(\"\\nTop 10 trigrams:\")\n",
    "for tg in trigram_freq: print(' '.join(tg[0]), \"-\", tg[1])"
   ]
  },
  {
   "cell_type": "code",
   "execution_count": null,
   "id": "004bf1b6",
   "metadata": {},
   "outputs": [],
   "source": [
    "# Cobertura de vocabulário\n",
    "total_words = sum(word_freq.values())\n",
    "sorted_counts = sorted(word_freq.values(), reverse=True)\n",
    "cumulative = 0\n",
    "unique_words_50 = 0\n",
    "unique_words_90 = 0\n",
    "\n",
    "for i, freq in enumerate(sorted_counts):\n",
    "    cumulative += freq\n",
    "    if not unique_words_50 and cumulative >= 0.5 * total_words:\n",
    "        unique_words_50 = i + 1\n",
    "    if not unique_words_90 and cumulative >= 0.9 * total_words:\n",
    "        unique_words_90 = i + 1\n",
    "        break\n",
    "\n",
    "print(f\"Palavras únicas para cobrir 50%: {unique_words_50}\")\n",
    "print(f\"Palavras únicas para cobrir 90%: {unique_words_90}\")"
   ]
  },
  {
   "cell_type": "markdown",
   "id": "b100719c",
   "metadata": {},
   "source": [
    "### Discussões e ideias:\n",
    "- Palavras muito frequentes são geralmente stopwords (ex: 'the', 'and', 'you').\n",
    "- A cobertura de vocabulário mostra que **poucas palavras** cobrem grande parte do uso.\n",
    "- Pode-se aumentar a cobertura com:\n",
    "  - Lematização e stemming\n",
    "  - Inclusão de dicionários externos (ex: WordNet)\n",
    "  - Expansão com embeddings ou subword models\n",
    "- Palavras estrangeiras podem ser detectadas com bibliotecas como `langdetect` ou listas conhecidas.\n"
   ]
  }
 ],
 "metadata": {
  "kernelspec": {
   "display_name": "Python 3",
   "language": "python",
   "name": "python3"
  },
  "language_info": {
   "codemirror_mode": {
    "name": "ipython",
    "version": 3
   },
   "file_extension": ".py",
   "mimetype": "text/x-python",
   "name": "python",
   "nbconvert_exporter": "python",
   "pygments_lexer": "ipython3",
   "version": "3.13.2"
  }
 },
 "nbformat": 4,
 "nbformat_minor": 5
}
